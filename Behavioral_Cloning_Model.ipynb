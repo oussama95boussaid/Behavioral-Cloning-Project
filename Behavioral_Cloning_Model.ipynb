{
  "cells": [
    {
      "cell_type": "code",
      "execution_count": null,
      "metadata": {
        "id": "RzvvrquhFXvv"
      },
      "outputs": [],
      "source": [
        "import csv\n",
        "import cv2\n",
        "import numpy as np\n",
        "import pandas as pd\n",
        "import matplotlib.pyplot as plt\n",
        "import os\n",
        "from sklearn.model_selection import train_test_split\n"
      ]
    },
    {
      "cell_type": "code",
      "execution_count": null,
      "metadata": {
        "id": "1F6yuFBxFXvy",
        "outputId": "829ded04-38ba-42b4-8754-050970de4a67"
      },
      "outputs": [
        {
          "name": "stdout",
          "output_type": "stream",
          "text": [
            "loading the data...\n",
            "[['IMG/center_2016_12_01_13_30_48_287.jpg'\n",
            "  ' IMG/left_2016_12_01_13_30_48_287.jpg'\n",
            "  ' IMG/right_2016_12_01_13_30_48_287.jpg' ... 0.0 0.0 22.14829]\n",
            " ['IMG/center_2016_12_01_13_30_48_404.jpg'\n",
            "  ' IMG/left_2016_12_01_13_30_48_404.jpg'\n",
            "  ' IMG/right_2016_12_01_13_30_48_404.jpg' ... 0.0 0.0 21.87963]\n",
            " ['IMG/center_2016_12_01_13_31_12_937.jpg'\n",
            "  ' IMG/left_2016_12_01_13_31_12_937.jpg'\n",
            "  ' IMG/right_2016_12_01_13_31_12_937.jpg' ... 0.0 0.0 1.453011]\n",
            " ...\n",
            " ['IMG/center_2016_12_01_13_46_38_846.jpg'\n",
            "  ' IMG/left_2016_12_01_13_46_38_846.jpg'\n",
            "  ' IMG/right_2016_12_01_13_46_38_846.jpg' ... 0.0 0.0 1.388364]\n",
            " ['IMG/center_2016_12_01_13_46_38_922.jpg'\n",
            "  ' IMG/left_2016_12_01_13_46_38_922.jpg'\n",
            "  ' IMG/right_2016_12_01_13_46_38_922.jpg' ... 0.0 0.0 1.377208]\n",
            " ['IMG/center_2016_12_01_13_46_38_947.jpg'\n",
            "  ' IMG/left_2016_12_01_13_46_38_947.jpg'\n",
            "  ' IMG/right_2016_12_01_13_46_38_947.jpg' ... 0.0 0.0 1.374433]]\n",
            "Data Load\n"
          ]
        }
      ],
      "source": [
        "# load the csv file\n",
        "print('loading the data...')\n",
        "data=pd.read_csv('data/driving_log.csv')\n",
        "samples =np.asarray(data)\n",
        "print(samples)\n",
        "print(\"Data Load\")"
      ]
    },
    {
      "cell_type": "code",
      "execution_count": null,
      "metadata": {
        "id": "cPzi5aMHFXvz",
        "outputId": "d7d8a13a-bf62-4f01-b4c4-24c99cd297fa"
      },
      "outputs": [
        {
          "name": "stdout",
          "output_type": "stream",
          "text": [
            "Number of sample lines  8036\n",
            "Number of train lines  6428\n",
            "Number of validation lines  1608\n"
          ]
        }
      ],
      "source": [
        "# splitting the dataset to train and validation set using sklearn.\n",
        "# use 80% for training and 20% for validation\n",
        "\n",
        "train_samples, validation_samples = train_test_split(samples ,test_size=0.2)\n",
        "\n",
        "print(\"Number of sample lines \",len(samples))\n",
        "print(\"Number of train lines \",len(train_samples))\n",
        "print(\"Number of validation lines \",len(validation_samples))"
      ]
    },
    {
      "cell_type": "code",
      "execution_count": null,
      "metadata": {
        "id": "l_ib-EzlFXvz"
      },
      "outputs": [],
      "source": [
        "from sklearn.utils import shuffle\n",
        "import tensorflow as tf\n"
      ]
    },
    {
      "cell_type": "code",
      "execution_count": null,
      "metadata": {
        "id": "yO4f8cMlFXv0"
      },
      "outputs": [],
      "source": [
        "# Parameters for training data augmentation\n",
        "CORRECTION = 0.2\n",
        "# Network hyper parameter configuration\n",
        "EPOCHS=1\n",
        "BATCH_SIZE=32"
      ]
    },
    {
      "cell_type": "code",
      "execution_count": null,
      "metadata": {
        "id": "U8xEiqxsFXv0",
        "outputId": "22e6208d-f5d7-4342-c5c1-5e0a8ad67870"
      },
      "outputs": [
        {
          "name": "stdout",
          "output_type": "stream",
          "text": [
            "generator defined.\n"
          ]
        }
      ],
      "source": [
        "\n",
        "# generator\n",
        "def generator(samples, batch_size):\n",
        "    num_samples = len(samples)\n",
        "   \n",
        "    while 1: \n",
        "        #shuffling images\n",
        "        shuffle(samples) \n",
        "        for offset in range(0, num_samples, batch_size):\n",
        "            \n",
        "            batch_samples = samples[offset:offset+batch_size]\n",
        "\n",
        "            images = []\n",
        "            angles = []\n",
        "            for batch_sample in batch_samples:\n",
        "                \n",
        "                    #we are taking 3 images, first one is center, second is left and third is right\n",
        "                    for i in range(0,3): \n",
        "                        source_path = batch_sample[i]\n",
        "                        file_name = source_path.split('/')[-1]\n",
        "                        current_path = './data/IMG/' + file_name\n",
        "                        #since CV2 reads an image in BGR we need to convert it to RGB since in drive.py it is RGB\n",
        "                        center_image = cv2.cvtColor(cv2.imread(current_path), cv2.COLOR_BGR2RGB) \n",
        "                        #getting the steering angle measurement\n",
        "                        center_angle = float(batch_sample[3]) \n",
        "                        images.append(center_image)\n",
        "                        \n",
        "                        # introducing correction for left and right images\n",
        "                        # if image is in left we increase the steering angle by 0.2\n",
        "                        # if image is in right we decrease the steering angle by 0.2\n",
        "                        \n",
        "                        if(i==0):\n",
        "                            angles.append(center_angle)\n",
        "                        elif(i==1):\n",
        "                            angles.append(center_angle+CORRECTION)\n",
        "                        elif(i==2):\n",
        "                            angles.append(center_angle-CORRECTION)\n",
        "                        \n",
        "                        # data Augmentation .\n",
        "                        # We take the image and  flip it around y-axis and negate the measurement (taking the opposite sign of the steering measurement )\n",
        "                        \n",
        "                        images.append(cv2.flip(center_image,1))\n",
        "                        \n",
        "                        if(i==0):\n",
        "                            angles.append(center_angle*-1)\n",
        "                        elif(i==1):\n",
        "                            angles.append((center_angle+CORRECTION)*-1)\n",
        "                        elif(i==2):\n",
        "                            angles.append((center_angle-CORRECTION)*-1)\n",
        "                        \n",
        "                        \n",
        "        \n",
        "            X_train = np.array(images)\n",
        "            y_train = np.array(angles)\n",
        "            \n",
        "            # here we do not hold the values of X_train and y_train instead we yield the values which means we hold until the generator is running\n",
        "            yield shuffle(X_train, y_train)\n",
        "            \n",
        "            \n",
        "print(\"generator defined.\")"
      ]
    },
    {
      "cell_type": "code",
      "execution_count": null,
      "metadata": {
        "id": "qR--fW2OFXv1"
      },
      "outputs": [],
      "source": [
        "# compile and train the model using the generator function\n",
        "train_generator = generator(train_samples, BATCH_SIZE)\n",
        "validation_generator = generator(validation_samples, BATCH_SIZE)"
      ]
    },
    {
      "cell_type": "code",
      "execution_count": null,
      "metadata": {
        "id": "czhtpVfNFXv2"
      },
      "outputs": [],
      "source": [
        "from keras.models import Sequential\n",
        "from keras.layers import Flatten, Dense, Activation, Dropout , Conv2D\n",
        "from keras.layers import Lambda, Cropping2D"
      ]
    },
    {
      "cell_type": "code",
      "execution_count": null,
      "metadata": {
        "id": "0Mkf3RWJFXv3",
        "outputId": "b1720180-b1aa-4985-cdfb-da5c2b83edbd"
      },
      "outputs": [
        {
          "name": "stderr",
          "output_type": "stream",
          "text": [
            "C:\\Users\\monce\\AppData\\Local\\Temp\\ipykernel_26680\\2439570624.py:85: UserWarning: `Model.fit_generator` is deprecated and will be removed in a future version. Please use `Model.fit`, which supports generators.\n",
            "  results = model.fit_generator(train_generator, steps_per_epoch= len(train_samples), validation_data=validation_generator,   validation_steps=len(validation_samples), epochs=EPOCHS, verbose=1)\n"
          ]
        },
        {
          "name": "stdout",
          "output_type": "stream",
          "text": [
            "6428/6428 [==============================] - 3349s 521ms/step - loss: 0.0124 - val_loss: 0.0154\n",
            "Done! Model Saved!\n",
            "Model: \"sequential\"\n",
            "_________________________________________________________________\n",
            " Layer (type)                Output Shape              Param #   \n",
            "=================================================================\n",
            " lambda (Lambda)             (None, 160, 320, 3)       0         \n",
            "                                                                 \n",
            " cropping2d (Cropping2D)     (None, 65, 320, 3)        0         \n",
            "                                                                 \n",
            " conv2d (Conv2D)             (None, 31, 158, 24)       1824      \n",
            "                                                                 \n",
            " activation (Activation)     (None, 31, 158, 24)       0         \n",
            "                                                                 \n",
            " conv2d_1 (Conv2D)           (None, 14, 77, 36)        21636     \n",
            "                                                                 \n",
            " activation_1 (Activation)   (None, 14, 77, 36)        0         \n",
            "                                                                 \n",
            " conv2d_2 (Conv2D)           (None, 5, 37, 48)         43248     \n",
            "                                                                 \n",
            " activation_2 (Activation)   (None, 5, 37, 48)         0         \n",
            "                                                                 \n",
            " conv2d_3 (Conv2D)           (None, 3, 35, 64)         27712     \n",
            "                                                                 \n",
            " activation_3 (Activation)   (None, 3, 35, 64)         0         \n",
            "                                                                 \n",
            " conv2d_4 (Conv2D)           (None, 1, 33, 64)         36928     \n",
            "                                                                 \n",
            " activation_4 (Activation)   (None, 1, 33, 64)         0         \n",
            "                                                                 \n",
            " flatten (Flatten)           (None, 2112)              0         \n",
            "                                                                 \n",
            " dense (Dense)               (None, 1164)              2459532   \n",
            "                                                                 \n",
            " activation_5 (Activation)   (None, 1164)              0         \n",
            "                                                                 \n",
            " dense_1 (Dense)             (None, 100)               116500    \n",
            "                                                                 \n",
            " activation_6 (Activation)   (None, 100)               0         \n",
            "                                                                 \n",
            " dropout (Dropout)           (None, 100)               0         \n",
            "                                                                 \n",
            " dense_2 (Dense)             (None, 50)                5050      \n",
            "                                                                 \n",
            " activation_7 (Activation)   (None, 50)                0         \n",
            "                                                                 \n",
            " dropout_1 (Dropout)         (None, 50)                0         \n",
            "                                                                 \n",
            " dense_3 (Dense)             (None, 10)                510       \n",
            "                                                                 \n",
            " activation_8 (Activation)   (None, 10)                0         \n",
            "                                                                 \n",
            " dropout_2 (Dropout)         (None, 10)                0         \n",
            "                                                                 \n",
            " dense_4 (Dense)             (None, 1)                 11        \n",
            "                                                                 \n",
            "=================================================================\n",
            "Total params: 2,712,951\n",
            "Trainable params: 2,712,951\n",
            "Non-trainable params: 0\n",
            "_________________________________________________________________\n"
          ]
        }
      ],
      "source": [
        "CROP_TOP = 70\n",
        "CROP_BOTTOM = 25\n",
        "\n",
        "\n",
        "model = Sequential()\n",
        "\n",
        "'''\n",
        "Lambda Layer allows to specify the operation  ( normalization ) \n",
        "to be applied as a function that operate on each image as it passes through the layer\n",
        "\n",
        "'''\n",
        "# Preprocess incoming data ( normalization )\n",
        "model.add(Lambda(lambda x: (x / 128.0) - 1,input_shape=(160,320,3)))\n",
        "\n",
        "'''\n",
        "the Cropping Layer crop the input images by \n",
        "    - 70 rows pixels from the top image\n",
        "    - 25 rows pixels from the bottom image\n",
        "    - 0 Columns pixels from the left of the  image\n",
        "    - 0 Columns pixels from the right of the image\n",
        "\n",
        "'''\n",
        "# crops at top and bottom, ROI ( output ) shape = (65, 320, 3)\n",
        "model.add(Cropping2D(cropping=((CROP_TOP,CROP_BOTTOM), (0,0))))\n",
        "\n",
        "# layer 1- Convolution layer with 24 filters , a 5x5 kernel, stride= 2x2\n",
        "model.add(Conv2D( filters = 24 , kernel_size = (5,5) , strides=(2,2) ))\n",
        "# Relu Activation Function \n",
        "model.add(Activation('relu'))\n",
        "\n",
        "# layer 2- Convolution layer with 36 filters , a 5x5 kernel, stride= 2x2\n",
        "model.add(Conv2D( filters = 36 , kernel_size = (5,5) , strides=(2,2) ))\n",
        "model.add(Activation('relu'))\n",
        "\n",
        "# layer 3- Convolution layer with 48 filters , a 5x5 kernel, stride= 2x2\n",
        "model.add(Conv2D( filters = 48 , kernel_size = (5,5) , strides=(2,2) ))\n",
        "model.add(Activation('relu'))\n",
        "\n",
        "# layer 4- Convolution layer with 64 filters , a 3x3 kernel, stride= 1x1\n",
        "model.add(Conv2D( filters = 64 , kernel_size = (3,3) ))\n",
        "model.add(Activation('relu'))\n",
        "\n",
        "# layer 5- Convolution layer with 64 filters , a 3x3 kernel, stride= 1x1\n",
        "model.add(Conv2D( filters = 64 , kernel_size = (3,3) ))\n",
        "model.add(Activation('relu'))\n",
        "\n",
        "# flatten image from 2D to side by side\n",
        "model.add(Flatten())\n",
        "\n",
        "# layer 6- fully connected layer 1\n",
        "model.add(Dense(1164))\n",
        "model.add(Activation('relu'))\n",
        "\n",
        "# Adding a dropout layer to avoid overfitting. Here we are have given the dropout rate as 30% after first fully connected layer\n",
        "model.add(Dropout(0.3))\n",
        "\n",
        "# layer 7- fully connected layer 2\n",
        "model.add(Dense(100))\n",
        "model.add(Activation('relu'))\n",
        "\n",
        "# Adding a dropout layer to avoid overfitting. Here we are have given the dropout rate as 30% after first fully connected layer\n",
        "model.add(Dropout(0.3))\n",
        "\n",
        "# layer 8- fully connected layer 3\n",
        "model.add(Dense(50))\n",
        "model.add(Activation('relu'))\n",
        "\n",
        "# Adding a dropout layer to avoid overfitting. Here we are have given the dropout rate as 30% after first fully connected layer\n",
        "model.add(Dropout(0.3))\n",
        "\n",
        "\n",
        "# layer 9- fully connected layer 4\n",
        "model.add(Dense(10))\n",
        "model.add(Activation('relu'))\n",
        "\n",
        "# layer 10- fully connected layer 5\n",
        "model.add(Dense(1))\n",
        "\n",
        "# train the model\n",
        "\n",
        "# using mean squared error loss function & adam optimizer \n",
        "model.compile(optimizer='adam', loss='mse')\n",
        "\n",
        "#fit generator is used here as the number of images are generated by the generator\n",
        "results = model.fit_generator(train_generator, steps_per_epoch= len(train_samples), validation_data=validation_generator,   validation_steps=len(validation_samples), epochs=EPOCHS, verbose=1)\n",
        "\n",
        "#saving model\n",
        "model.save('../Behavioral_Cloning_Project/model2.h5')\n",
        "print('Done! Model Saved!')\n",
        "\n",
        "# keras method to print the model summary\n",
        "model.summary()\n",
        "\n",
        "\n"
      ]
    },
    {
      "cell_type": "code",
      "execution_count": null,
      "metadata": {
        "id": "nHvDKV-QCq3z"
      },
      "outputs": [],
      "source": [
        "### print the keys contained in the history object\n",
        "print(results.history.keys())\n",
        "\n",
        "### plot the training and validation loss for each epoch\n",
        "plt.plot(results.history['loss'])\n",
        "plt.plot(results.history['val_loss'])\n",
        "plt.title('model mean squared error loss')\n",
        "plt.ylabel('mean squared error loss')\n",
        "plt.xlabel('epoch')\n",
        "plt.legend(['training set', 'validation set'], loc='upper right')\n",
        "plt.show()\n",
        "plt.savefig(\"../Behavioral_Cloning_Project/learning_curve.png\")"
      ]
    }
  ],
  "metadata": {
    "colab": {
      "collapsed_sections": [],
      "provenance": []
    },
    "kernelspec": {
      "display_name": "Python 3.10.5 64-bit",
      "language": "python",
      "name": "python3"
    },
    "language_info": {
      "codemirror_mode": {
        "name": "ipython",
        "version": 3
      },
      "file_extension": ".py",
      "mimetype": "text/x-python",
      "name": "python",
      "nbconvert_exporter": "python",
      "pygments_lexer": "ipython3",
      "version": "3.10.5"
    },
    "orig_nbformat": 4,
    "vscode": {
      "interpreter": {
        "hash": "369f2c481f4da34e4445cda3fffd2e751bd1c4d706f27375911949ba6bb62e1c"
      }
    }
  },
  "nbformat": 4,
  "nbformat_minor": 0
}